{
 "cells": [
  {
   "cell_type": "code",
   "execution_count": 1,
   "id": "4023dec3-768e-4220-b745-18ee59550dce",
   "metadata": {},
   "outputs": [
    {
     "ename": "ModuleNotFoundError",
     "evalue": "No module named 'skforecast.forecaster_autoreg'",
     "output_type": "error",
     "traceback": [
      "\u001b[0;31m---------------------------------------------------------------------------\u001b[0m",
      "\u001b[0;31mModuleNotFoundError\u001b[0m                       Traceback (most recent call last)",
      "Cell \u001b[0;32mIn[1], line 5\u001b[0m\n\u001b[1;32m      3\u001b[0m \u001b[38;5;28;01mimport\u001b[39;00m\u001b[38;5;250m \u001b[39m\u001b[38;5;21;01mmatplotlib\u001b[39;00m\u001b[38;5;21;01m.\u001b[39;00m\u001b[38;5;21;01mpyplot\u001b[39;00m\u001b[38;5;250m \u001b[39m\u001b[38;5;28;01mas\u001b[39;00m\u001b[38;5;250m \u001b[39m\u001b[38;5;21;01mplt\u001b[39;00m\n\u001b[1;32m      4\u001b[0m \u001b[38;5;28;01mfrom\u001b[39;00m\u001b[38;5;250m \u001b[39m\u001b[38;5;21;01msklearn\u001b[39;00m\u001b[38;5;21;01m.\u001b[39;00m\u001b[38;5;21;01mlinear_model\u001b[39;00m\u001b[38;5;250m \u001b[39m\u001b[38;5;28;01mimport\u001b[39;00m Ridge\n\u001b[0;32m----> 5\u001b[0m \u001b[38;5;28;01mfrom\u001b[39;00m\u001b[38;5;250m \u001b[39m\u001b[38;5;21;01mskforecast\u001b[39;00m\u001b[38;5;21;01m.\u001b[39;00m\u001b[38;5;21;01mforecaster_autoreg\u001b[39;00m\u001b[38;5;250m \u001b[39m\u001b[38;5;28;01mimport\u001b[39;00m ForecasterAutoreg\n\u001b[1;32m      6\u001b[0m \u001b[38;5;28;01mfrom\u001b[39;00m\u001b[38;5;250m \u001b[39m\u001b[38;5;21;01msklearn\u001b[39;00m\u001b[38;5;21;01m.\u001b[39;00m\u001b[38;5;21;01mmetrics\u001b[39;00m\u001b[38;5;250m \u001b[39m\u001b[38;5;28;01mimport\u001b[39;00m mean_squared_error\n\u001b[1;32m      7\u001b[0m \u001b[38;5;28;01mfrom\u001b[39;00m\u001b[38;5;250m \u001b[39m\u001b[38;5;21;01msklearn\u001b[39;00m\u001b[38;5;21;01m.\u001b[39;00m\u001b[38;5;21;01mpreprocessing\u001b[39;00m\u001b[38;5;250m \u001b[39m\u001b[38;5;28;01mimport\u001b[39;00m StandardScaler\n",
      "\u001b[0;31mModuleNotFoundError\u001b[0m: No module named 'skforecast.forecaster_autoreg'"
     ]
    }
   ],
   "source": [
    "import numpy as np\n",
    "import pandas as pd\n",
    "import matplotlib.pyplot as plt\n",
    "from sklearn.linear_model import Ridge\n",
    "from skforecast.forecaster_autoreg import ForecasterAutoreg\n",
    "from sklearn.metrics import mean_squared_error\n",
    "from sklearn.preprocessing import StandardScaler\n"
   ]
  },
  {
   "cell_type": "code",
   "execution_count": null,
   "id": "caa30430-3308-4ead-b980-598a63fefa42",
   "metadata": {},
   "outputs": [],
   "source": [
    "# === 1. Embeddings & Timestamps laden ===\n",
    "X_embed = np.load(\"data/tfifd_embeddings_weekly_timestamps.npy\")  # shape: (n_weeks, embedding_dim)\n",
    "timestamps = np.load(\"data/tfifd_embeddings_weekly.npy\")  # shape: (n_weeks,)\n",
    "\n",
    "df_embed = pd.DataFrame(X_embed)\n",
    "df_embed['week'] = pd.to_datetime(timestamps)"
   ]
  },
  {
   "cell_type": "code",
   "execution_count": null,
   "id": "a4523724-a102-4fc1-85ef-69f962fced5f",
   "metadata": {},
   "outputs": [],
   "source": []
  },
  {
   "cell_type": "code",
   "execution_count": null,
   "id": "8b658e58-a156-46d3-9583-f1e725bd9617",
   "metadata": {},
   "outputs": [],
   "source": [
    "# === 2. Tesla Kursdaten laden ===\n",
    "df_stock = pd.read_csv(\"TSLA_weekly_adjusted.csv\")  # Enthält 'date', 'close', ...\n",
    "df_stock['date'] = pd.to_datetime(df_stock['date'])\n",
    "df_stock.rename(columns={'date': 'week'}, inplace=True)"
   ]
  },
  {
   "cell_type": "code",
   "execution_count": null,
   "id": "8456939f-7f74-4f1a-9fee-983a0e7c3f05",
   "metadata": {},
   "outputs": [],
   "source": [
    "# Nur relevante Spalten (z. B. Schlusskurs)\n",
    "df_stock = df_stock[['week', 'close']]"
   ]
  },
  {
   "cell_type": "code",
   "execution_count": null,
   "id": "516f9005-4e2d-4572-a91b-bae1616b1a56",
   "metadata": {},
   "outputs": [],
   "source": [
    "# === 3. Mergen von Embedding + Aktienkurs ===\n",
    "df_merged = pd.merge(df_embed, df_stock, on='week', how='inner')\n",
    "df_merged.sort_values('week', inplace=True)"
   ]
  },
  {
   "cell_type": "code",
   "execution_count": null,
   "id": "e18d902c-ffd9-4637-9c5a-3b5854dece6c",
   "metadata": {},
   "outputs": [],
   "source": [
    "# === 4. Feature- & Zielmatrix ===\n",
    "X = df_merged.drop(columns=['week', 'close'])\n",
    "y = df_merged['close']"
   ]
  },
  {
   "cell_type": "code",
   "execution_count": null,
   "id": "8030223f-5f17-40a2-8003-f6a33a9642cf",
   "metadata": {},
   "outputs": [],
   "source": [
    "# === 5. Skalierung ===\n",
    "scaler = StandardScaler()\n",
    "X_scaled = scaler.fit_transform(X)"
   ]
  },
  {
   "cell_type": "code",
   "execution_count": null,
   "id": "866b07aa-1679-43fc-bdca-161f60305a84",
   "metadata": {},
   "outputs": [],
   "source": [
    "# === 6. Zeitreihenstruktur aufbauen ===\n",
    "X_df = pd.DataFrame(X_scaled, index=df_merged['week'])\n",
    "y_series = pd.Series(y.values, index=df_merged['week'])\n",
    "\n"
   ]
  },
  {
   "cell_type": "code",
   "execution_count": null,
   "id": "f26a720a-7511-4a75-b6ef-7b96eaf14a9b",
   "metadata": {},
   "outputs": [],
   "source": [
    "# === 7. Modell trainieren ===\n",
    "forecaster = ForecasterAutoreg(regressor=Ridge(), lags=5)\n",
    "split_index = -10  # letzte 10 Wochen als Testdaten\n",
    "\n",
    "forecaster.fit(y=y_series[:split_index], exog=X_df[:split_index])\n",
    "y_pred = forecaster.predict(steps=10, exog=X_df[split_index:])\n"
   ]
  },
  {
   "cell_type": "code",
   "execution_count": null,
   "id": "6cf8f5e8-b42a-4197-a743-257309277e9b",
   "metadata": {},
   "outputs": [],
   "source": [
    "# === 8. Plot ===\n",
    "plt.figure(figsize=(10, 4))\n",
    "plt.plot(y_true.index, y_true.values, label='True')\n",
    "plt.plot(y_true.index, y_pred.values, label='Forecast')\n",
    "plt.title(\"Tesla Weekly Close Forecast (Simuliert)\")\n",
    "plt.xlabel(\"Woche\")\n",
    "plt.ylabel(\"Kurs\")\n",
    "plt.legend()\n",
    "plt.xticks(rotation=45)\n",
    "plt.tight_layout()\n",
    "plt.show()"
   ]
  }
 ],
 "metadata": {
  "kernelspec": {
   "display_name": "Python (mein-venv-name)",
   "language": "python",
   "name": "mein-venv-name"
  },
  "language_info": {
   "codemirror_mode": {
    "name": "ipython",
    "version": 3
   },
   "file_extension": ".py",
   "mimetype": "text/x-python",
   "name": "python",
   "nbconvert_exporter": "python",
   "pygments_lexer": "ipython3",
   "version": "3.10.13"
  }
 },
 "nbformat": 4,
 "nbformat_minor": 5
}
