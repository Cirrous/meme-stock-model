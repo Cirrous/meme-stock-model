{
 "cells": [
  {
   "cell_type": "code",
   "execution_count": 3,
   "id": "5ebaf965-9400-4a10-be91-35c652767473",
   "metadata": {},
   "outputs": [
    {
     "name": "stdout",
     "output_type": "stream",
     "text": [
      "2.7.1+cu126\n"
     ]
    }
   ],
   "source": [
    "import torch\n",
    "print(torch.__version__)  # Muss mindestens 2.6.0 sein\n"
   ]
  },
  {
   "cell_type": "code",
   "execution_count": 4,
   "id": "384543a0-0b70-43b0-acb7-87564f35a635",
   "metadata": {},
   "outputs": [],
   "source": [
    "import pandas as pd\n",
    "from transformers import AutoTokenizer, AutoModelForSequenceClassification\n",
    "from vaderSentiment.vaderSentiment import SentimentIntensityAnalyzer\n",
    "from torch.nn.functional import softmax\n",
    "import torch\n",
    "from tqdm import tqdm\n"
   ]
  },
  {
   "cell_type": "code",
   "execution_count": 5,
   "id": "558913b1-b93c-4177-abfe-e11cc8a4c274",
   "metadata": {},
   "outputs": [
    {
     "data": {
      "application/vnd.jupyter.widget-view+json": {
       "model_id": "9dbcea14b91f4a3cadd1596c264b6871",
       "version_major": 2,
       "version_minor": 0
      },
      "text/plain": [
       "tokenizer_config.json:   0%|          | 0.00/252 [00:00<?, ?B/s]"
      ]
     },
     "metadata": {},
     "output_type": "display_data"
    },
    {
     "data": {
      "application/vnd.jupyter.widget-view+json": {
       "model_id": "0890caa66b6d4017b170b56947600f66",
       "version_major": 2,
       "version_minor": 0
      },
      "text/plain": [
       "config.json:   0%|          | 0.00/758 [00:00<?, ?B/s]"
      ]
     },
     "metadata": {},
     "output_type": "display_data"
    },
    {
     "data": {
      "application/vnd.jupyter.widget-view+json": {
       "model_id": "f09031a37d40472eab257b75c845c2f9",
       "version_major": 2,
       "version_minor": 0
      },
      "text/plain": [
       "vocab.txt: 0.00B [00:00, ?B/s]"
      ]
     },
     "metadata": {},
     "output_type": "display_data"
    },
    {
     "data": {
      "application/vnd.jupyter.widget-view+json": {
       "model_id": "7a9038adf8fe4c3387bb942bd55ec5eb",
       "version_major": 2,
       "version_minor": 0
      },
      "text/plain": [
       "special_tokens_map.json:   0%|          | 0.00/112 [00:00<?, ?B/s]"
      ]
     },
     "metadata": {},
     "output_type": "display_data"
    },
    {
     "data": {
      "application/vnd.jupyter.widget-view+json": {
       "model_id": "8b841fa2e94048ecb2e0401b5b5be3e6",
       "version_major": 2,
       "version_minor": 0
      },
      "text/plain": [
       "pytorch_model.bin:   0%|          | 0.00/438M [00:00<?, ?B/s]"
      ]
     },
     "metadata": {},
     "output_type": "display_data"
    }
   ],
   "source": [
    "# === 1. Lade den originalen, bereits vorverarbeiteten DataFrame ===\n",
    "df = pd.read_csv('data/tesla_preprocessed.csv')\n",
    "\n",
    "# === 2. FinBERT vorbereiten ===\n",
    "finbert_model_name = \"ProsusAI/finbert\"\n",
    "tokenizer = AutoTokenizer.from_pretrained(finbert_model_name)\n",
    "model = AutoModelForSequenceClassification.from_pretrained(finbert_model_name)\n",
    "\n",
    "model.eval()  # Inference-Modus\n",
    "device = torch.device(\"cuda\" if torch.cuda.is_available() else \"cpu\")\n",
    "model.to(device)\n",
    "\n",
    "# === 3. VADER vorbereiten ===\n",
    "vader_analyzer = SentimentIntensityAnalyzer()"
   ]
  },
  {
   "cell_type": "code",
   "execution_count": 6,
   "id": "d6912cad-b4e6-49b7-920e-4fe648ff80d0",
   "metadata": {
    "jupyter": {
     "source_hidden": true
    }
   },
   "outputs": [],
   "source": [
    "# === 4. Neue Spalten für Sentiment-Labels ===\n",
    "df['finbert_sentiment'] = ''\n",
    "df['finbert_score'] = 0.0\n",
    "df['vader_compound'] = 0.0\n",
    "df['vader_sentiment'] = ''\n",
    "\n",
    "# === 5. Texte zusammenfassen (z. B. Titel + Text) ===\n",
    "df['full_text'] = df['title'].fillna('') + ' ' + df['text'].fillna('')"
   ]
  },
  {
   "cell_type": "code",
   "execution_count": 7,
   "id": "18cd4dad-4d48-4bc8-9648-08481d4ba358",
   "metadata": {},
   "outputs": [],
   "source": [
    "# === 6. Funktion: FinBERT Sentiment berechnen ===\n",
    "def get_finbert_sentiment(text):\n",
    "    try:\n",
    "        inputs = tokenizer(text, return_tensors=\"pt\", truncation=True, padding=True, max_length=512)\n",
    "        inputs = {k: v.to(device) for k, v in inputs.items()}\n",
    "\n",
    "        with torch.no_grad():\n",
    "            outputs = model(**inputs)\n",
    "            probs = softmax(outputs.logits, dim=1).cpu().numpy()[0]\n",
    "            label_idx = probs.argmax()\n",
    "            labels = [\"negative\", \"neutral\", \"positive\"]\n",
    "            return labels[label_idx], float(probs[label_idx])\n",
    "    except Exception as e:\n",
    "        return \"error\", 0.0"
   ]
  },
  {
   "cell_type": "code",
   "execution_count": 8,
   "id": "0e3c588b-9452-469c-bf95-af17cf0626d4",
   "metadata": {},
   "outputs": [],
   "source": [
    "# === 7. Funktion: VADER Sentiment berechnen ===\n",
    "def get_vader_sentiment(text):\n",
    "    scores = vader_analyzer.polarity_scores(text)\n",
    "    compound = scores['compound']\n",
    "    label = 'positive' if compound > 0.05 else 'negative' if compound < -0.05 else 'neutral'\n",
    "    return compound, label"
   ]
  },
  {
   "cell_type": "code",
   "execution_count": 9,
   "id": "cbc41c37-32fa-4c34-ac54-8b0035b988ed",
   "metadata": {},
   "outputs": [
    {
     "name": "stdout",
     "output_type": "stream",
     "text": [
      "Starte Sentimentanalyse...\n"
     ]
    },
    {
     "name": "stderr",
     "output_type": "stream",
     "text": [
      "  0%|                                                                                                      | 4/13268 [00:00<43:16,  5.11it/s]"
     ]
    },
    {
     "data": {
      "application/vnd.jupyter.widget-view+json": {
       "model_id": "0a3e38974c5c40d7987b7027ddd93115",
       "version_major": 2,
       "version_minor": 0
      },
      "text/plain": [
       "model.safetensors:   0%|          | 0.00/438M [00:00<?, ?B/s]"
      ]
     },
     "metadata": {},
     "output_type": "display_data"
    },
    {
     "name": "stderr",
     "output_type": "stream",
     "text": [
      "100%|██████████████████████████████████████████████████████████████████████████████████████████████████| 13268/13268 [35:41<00:00,  6.20it/s]"
     ]
    },
    {
     "name": "stdout",
     "output_type": "stream",
     "text": [
      "Sentimentanalyse abgeschlossen!\n"
     ]
    },
    {
     "name": "stderr",
     "output_type": "stream",
     "text": [
      "\n"
     ]
    }
   ],
   "source": [
    "# === 8. Sentimentberechnung durchführen ===\n",
    "print(\"Starte Sentimentanalyse...\")\n",
    "\n",
    "for i, row in tqdm(df.iterrows(), total=len(df)):\n",
    "    text = row['full_text']\n",
    "    \n",
    "    # FinBERT\n",
    "    label, score = get_finbert_sentiment(text)\n",
    "    df.at[i, 'finbert_sentiment'] = label\n",
    "    df.at[i, 'finbert_score'] = score\n",
    "\n",
    "    # VADER\n",
    "    compound, vader_label = get_vader_sentiment(text)\n",
    "    df.at[i, 'vader_compound'] = compound\n",
    "    df.at[i, 'vader_sentiment'] = vader_label\n",
    "\n",
    "print(\"Sentimentanalyse abgeschlossen!\")"
   ]
  },
  {
   "cell_type": "code",
   "execution_count": 10,
   "id": "983d91cf-3ca3-4d47-9653-275330278faa",
   "metadata": {},
   "outputs": [],
   "source": [
    "# === 10. Kombiniertes Sentiment berechnen ===\n",
    "\n",
    "def combine_sentiments(finbert, vader):\n",
    "    if \"error\" in [finbert, vader] or vader not in {\"positive\", \"neutral\", \"negative\"}:\n",
    "        return \"unknown\"\n",
    "    \n",
    "    if finbert == \"positive\" and vader == \"positive\":\n",
    "        return \"strong_positive\"\n",
    "    elif finbert == \"negative\" and vader == \"negative\":\n",
    "        return \"strong_negative\"\n",
    "    elif finbert == \"neutral\" and vader == \"neutral\":\n",
    "        return \"neutral\"\n",
    "    elif finbert == \"positive\" and vader == \"negative\":\n",
    "        return \"mixed\"\n",
    "    elif finbert == \"negative\" and vader == \"positive\":\n",
    "        return \"mixed\"\n",
    "    elif finbert == \"positive\" or vader == \"positive\":\n",
    "        return \"positive\"\n",
    "    elif finbert == \"negative\" or vader == \"negative\":\n",
    "        return \"negative\"\n",
    "    else:\n",
    "        return \"neutral\"\n",
    "\n",
    "# Neue Spalte erzeugen\n",
    "df['combined_sentiment'] = df.apply(lambda row: combine_sentiments(row['finbert_sentiment'], row['vader_sentiment']), axis=1)\n"
   ]
  },
  {
   "cell_type": "code",
   "execution_count": 11,
   "id": "ccc6e1b4-7563-447b-8f38-79dc5bea1da2",
   "metadata": {},
   "outputs": [
    {
     "name": "stdout",
     "output_type": "stream",
     "text": [
      "Daten mit Sentiment gespeichert unter: data/tesla_sentiment.csv\n"
     ]
    }
   ],
   "source": [
    "# === 9. Ergebnisse speichern ===\n",
    "output_path = 'data/tesla_sentiment.csv'\n",
    "df.to_csv(output_path, index=False)\n",
    "print(f\"Daten mit Sentiment gespeichert unter: {output_path}\")\n"
   ]
  }
 ],
 "metadata": {
  "kernelspec": {
   "display_name": "Python 3 (ipykernel)",
   "language": "python",
   "name": "python3"
  },
  "language_info": {
   "codemirror_mode": {
    "name": "ipython",
    "version": 3
   },
   "file_extension": ".py",
   "mimetype": "text/x-python",
   "name": "python",
   "nbconvert_exporter": "python",
   "pygments_lexer": "ipython3",
   "version": "3.13.5"
  }
 },
 "nbformat": 4,
 "nbformat_minor": 5
}
