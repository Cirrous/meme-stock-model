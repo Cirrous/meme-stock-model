{
 "cells": [
  {
   "cell_type": "code",
   "execution_count": 1,
   "id": "5c376168-a32e-41ca-84d7-c31a587681a7",
   "metadata": {},
   "outputs": [
    {
     "name": "stdout",
     "output_type": "stream",
     "text": [
      "Verwende: cpu\n"
     ]
    },
    {
     "name": "stderr",
     "output_type": "stream",
     "text": [
      "[nltk_data] Downloading package vader_lexicon to\n",
      "[nltk_data]     C:\\Users\\Tobia\\AppData\\Roaming\\nltk_data...\n",
      "[nltk_data]   Package vader_lexicon is already up-to-date!\n"
     ]
    }
   ],
   "source": [
    "# Setup\n",
    "from transformers import AutoTokenizer, AutoModelForSequenceClassification\n",
    "import torch\n",
    "import torch.nn.functional as F\n",
    "import pandas as pd\n",
    "from tqdm import tqdm\n",
    "# Für VADER:\n",
    "import nltk\n",
    "from nltk.sentiment.vader import SentimentIntensityAnalyzer\n",
    "nltk.download('vader_lexicon')\n",
    "\n",
    "# Optional: GPU nutzen\n",
    "device = torch.device(\"cuda\" if torch.cuda.is_available() else \"cpu\")\n",
    "print(\"Verwende:\", device)"
   ]
  },
  {
   "cell_type": "code",
   "execution_count": 2,
   "id": "9bc09329-9bcf-4db1-b7b7-e6e6136b52cf",
   "metadata": {},
   "outputs": [],
   "source": [
    "# Modelle & Tokenizer laden\n",
    "finbert_model_name = \"ProsusAI/finbert\"\n",
    "\n",
    "tokenizer = AutoTokenizer.from_pretrained(finbert_model_name)\n",
    "model = AutoModelForSequenceClassification.from_pretrained(finbert_model_name)\n",
    "model.to(device)\n",
    "model.eval()\n",
    "\n",
    "vader_analyzer = SentimentIntensityAnalyzer()"
   ]
  },
  {
   "cell_type": "code",
   "execution_count": 3,
   "id": "9f204810-ebc0-4cbd-98a0-565f5f874df7",
   "metadata": {},
   "outputs": [],
   "source": [
    "# Daten laden und Texte zusammenführen\n",
    "df = pd.read_csv(\"data/tesla_preprocessed.csv\")\n",
    "df[\"full_text\"] = df[\"title\"].fillna(\"\") + \" \" + df[\"text\"].fillna(\"\")\n",
    "texts = df[\"full_text\"].tolist()\n",
    "\n",
    "# Testen mit 100 zufälligen Einträgen\n",
    "#sample_df = df.sample(n=100, random_state=42) \n",
    "#sample_df[\"full_text\"] = sample_df[\"title\"].fillna(\"\") + \" \" + sample_df[\"text\"].fillna(\"\")\n",
    "#sample_texts = sample_df[\"full_text\"].tolist()"
   ]
  },
  {
   "cell_type": "code",
   "execution_count": 4,
   "id": "4651068d-987f-4466-8b78-57db49a368b4",
   "metadata": {},
   "outputs": [],
   "source": [
    "# Finbert Sentiment-Berechnungsfunktion (-1 bis 1) \n",
    "def compute_finbert_sentiment_scores(text_list):\n",
    "    results = []\n",
    "\n",
    "    for text in tqdm(text_list):\n",
    "        # Tokenisierung eines einzelnen Textes\n",
    "        inputs = tokenizer(text, return_tensors=\"pt\", truncation=True)\n",
    "        inputs = {key: val.to(device) for key, val in inputs.items()}\n",
    "\n",
    "        with torch.no_grad():\n",
    "            outputs = model(**inputs)\n",
    "            probs = F.softmax(outputs.logits, dim=1)[0]  # [0] da nur ein Eintrag\n",
    "\n",
    "        positive = probs[2].item()\n",
    "        neutral = probs[1].item()\n",
    "        negative = probs[0].item()\n",
    "        score = positive - negative\n",
    "\n",
    "        results.append({\n",
    "            \"positive\": positive,\n",
    "            \"neutral\": neutral,\n",
    "            \"negative\": negative,\n",
    "            \"score\": score\n",
    "        })\n",
    "\n",
    "    return results"
   ]
  },
  {
   "cell_type": "code",
   "execution_count": 5,
   "id": "3f9612fb-eb3d-4812-b9be-1fb3c2b7fa83",
   "metadata": {},
   "outputs": [],
   "source": [
    "# VADER Berechnungsfunktion\n",
    "def compute_vader_sentiment_scores(text_list):\n",
    "    results = []\n",
    "    \n",
    "    for text in tqdm(text_list):\n",
    "        vader_scores = vader_analyzer.polarity_scores(text)\n",
    "        compound_score = vader_scores[\"compound\"]\n",
    "        \n",
    "        results.append(compound_score)\n",
    "    \n",
    "    return results"
   ]
  },
  {
   "cell_type": "code",
   "execution_count": 6,
   "id": "b09c45ae-6546-4532-b229-9263dd2ca449",
   "metadata": {},
   "outputs": [
    {
     "name": "stdout",
     "output_type": "stream",
     "text": [
      "Finbert Sentiment wird berechnet...\n"
     ]
    },
    {
     "name": "stderr",
     "output_type": "stream",
     "text": [
      "100%|████████████████████████████████████████████████████| 13268/13268 [36:53<00:00,  5.99it/s]\n"
     ]
    },
    {
     "name": "stdout",
     "output_type": "stream",
     "text": [
      "Vader Sentiment wird berechnet...\n"
     ]
    },
    {
     "name": "stderr",
     "output_type": "stream",
     "text": [
      "100%|██████████████████████████████████████████████████| 13268/13268 [00:12<00:00, 1046.16it/s]\n"
     ]
    },
    {
     "name": "stdout",
     "output_type": "stream",
     "text": [
      "✅ Fertig: FinBERT + VADER Scores gespeichert.\n"
     ]
    }
   ],
   "source": [
    "# Sentiment berechnen und Ergebnisse speichern\n",
    "print(\"Finbert Sentiment wird berechnet...\")\n",
    "finbert_sentiment_results = compute_finbert_sentiment_scores(texts)\n",
    "finbert_sentiment_df = pd.DataFrame(finbert_sentiment_results)\n",
    "\n",
    "print(\"Vader Sentiment wird berechnet...\")\n",
    "vader_sentiment_scores = compute_vader_sentiment_scores(texts)\n",
    "\n",
    "# In Original-DataFrame einfügen\n",
    "df[\"finbert_sentiment\"] = finbert_sentiment_df[\"score\"]\n",
    "df[\"vader_sentiment\"] = vader_sentiment_scores\n",
    "\n",
    "# Speichern mit beiden neuen Spalten\n",
    "df.to_csv(\"data/tesla_sentiment_complete.csv\", index=False)\n",
    "\n",
    "print(\"✅ Fertig: FinBERT + VADER Scores gespeichert.\")"
   ]
  },
  {
   "cell_type": "code",
   "execution_count": 7,
   "id": "5e2659f1-0ca5-465c-9496-443f3751ec26",
   "metadata": {},
   "outputs": [
    {
     "name": "stderr",
     "output_type": "stream",
     "text": [
      "100%|████████████████████████████████████████████████████████████| 1/1 [00:00<00:00, 30.74it/s]\n",
      "100%|████████████████████████████████████████████████████████████| 1/1 [00:00<00:00, 18.64it/s]\n",
      "100%|███████████████████████████████████████████████████████████| 1/1 [00:00<00:00, 999.83it/s]\n",
      "100%|████████████████████████████████████████████████████████████████████| 1/1 [00:00<?, ?it/s]"
     ]
    },
    {
     "name": "stdout",
     "output_type": "stream",
     "text": [
      "{'positive': 0.43987175822257996, 'neutral': 0.018384816125035286, 'negative': 0.5417434573173523, 'score': -0.10187169909477234}\n",
      "0.4215\n",
      "{'positive': 0.8279392719268799, 'neutral': 0.03641020506620407, 'negative': 0.13565054535865784, 'score': 0.692288726568222}\n",
      "0.4215\n"
     ]
    },
    {
     "name": "stderr",
     "output_type": "stream",
     "text": [
      "\n"
     ]
    }
   ],
   "source": [
    "# TESTS\n",
    "testtext1=\"tesla $ 2.9 billion supply deal .. nice news deleted\"\n",
    "testtext2=\"tesla $ 2.9 billion supply deal nice news\"\n",
    "\n",
    "test_finbert_sentiment1 = compute_finbert_sentiment_scores([testtext1])\n",
    "test_finbert_sentiment2 = compute_finbert_sentiment_scores([testtext2])\n",
    "\n",
    "test_vader_sentiment1 = compute_vader_sentiment_scores([testtext1])\n",
    "test_vader_sentiment2 = compute_vader_sentiment_scores([testtext2])\n",
    "\n",
    "print(test_finbert_sentiment1[0])\n",
    "print(test_vader_sentiment1[0])\n",
    "print(test_finbert_sentiment2[0])\n",
    "print(test_vader_sentiment2[0])"
   ]
  }
 ],
 "metadata": {
  "kernelspec": {
   "display_name": "Python 3 (ipykernel)",
   "language": "python",
   "name": "python3"
  },
  "language_info": {
   "codemirror_mode": {
    "name": "ipython",
    "version": 3
   },
   "file_extension": ".py",
   "mimetype": "text/x-python",
   "name": "python",
   "nbconvert_exporter": "python",
   "pygments_lexer": "ipython3",
   "version": "3.12.10"
  }
 },
 "nbformat": 4,
 "nbformat_minor": 5
}
