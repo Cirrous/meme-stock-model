{
 "cells": [
  {
   "cell_type": "code",
   "execution_count": 4,
   "id": "bcc3263d-b9a2-4743-aaa6-434aa06b0a42",
   "metadata": {},
   "outputs": [
    {
     "name": "stdout",
     "output_type": "stream",
     "text": [
      "Min/Max Werte: -0.1393 / 0.2989\n"
     ]
    }
   ],
   "source": [
    "import numpy as np\n",
    "import pandas as pd\n",
    "from sklearn.preprocessing import MinMaxScaler\n",
    "\n",
    "embeddings = np.load(\"data/embedding_data/Reddit_embeddings_mxbai_embed_large_latest.npy\")\n",
    "\n",
    "sentiments = pd.read_csv(\"data/tesla_sentiment_complete.csv\")\n",
    "\n",
    "print(f\"Min/Max Werte: {embeddings.min():.4f} / {embeddings.max():.4f}\")\n",
    "\n",
    "# Summe für jeden Vektor (also pro Zeile)\n",
    "#vector_sums = np.sum(embeddings, axis=1)\n",
    "\n",
    "# Beispiel: Ersten 5 anzeigen\n",
    "#print(\"Summen der ersten 5 Vektoren:\", vector_sums[:5])\n",
    "\n",
    "# Optional: Statistik\n",
    "#print(\"Min:\", vector_sums.min())\n",
    "#print(\"Max:\", vector_sums.max())\n",
    "#print(\"Durchschnitt:\", vector_sums.mean())"
   ]
  },
  {
   "cell_type": "code",
   "execution_count": 5,
   "id": "c06ee713-5e01-4adf-a312-7213777469e9",
   "metadata": {},
   "outputs": [
    {
     "name": "stdout",
     "output_type": "stream",
     "text": [
      "(13268, 1027)\n",
      "Min/Max Werte: -0.9996 / 1.0000\n"
     ]
    }
   ],
   "source": [
    "# Sentimente dranhängen\n",
    "sentiment_features = sentiments[['finbert_sentiment', 'vader_sentiment']].values\n",
    "sentiment_scaled = sentiment_features #* 0.3 #\n",
    "\n",
    "# Score (Upvotes) dranhängen\n",
    "upvotes = sentiments[['score']].values\n",
    "# Log-transformieren\n",
    "log_upvotes = np.log1p(upvotes)\n",
    "# Normalisieren (z. B. Min-Max auf [0, 1])\n",
    "scaler = MinMaxScaler(feature_range=(0, 0.5))\n",
    "upvotes_scaled = scaler.fit_transform(log_upvotes)\n",
    "\n",
    "# 5. Konkatenieren\n",
    "combined = np.concatenate([embeddings, sentiment_scaled, upvotes_scaled], axis=1)\n",
    "\n",
    "np.save(\"data/embedding_data/embeddings_complete_scaled.npy\", combined)\n",
    "\n",
    "print(combined.shape)\n",
    "print(f\"Min/Max Werte: {combined.min():.4f} / {combined.max():.4f}\")"
   ]
  }
 ],
 "metadata": {
  "kernelspec": {
   "display_name": "Python 3 (ipykernel)",
   "language": "python",
   "name": "python3"
  },
  "language_info": {
   "codemirror_mode": {
    "name": "ipython",
    "version": 3
   },
   "file_extension": ".py",
   "mimetype": "text/x-python",
   "name": "python",
   "nbconvert_exporter": "python",
   "pygments_lexer": "ipython3",
   "version": "3.12.10"
  }
 },
 "nbformat": 4,
 "nbformat_minor": 5
}
