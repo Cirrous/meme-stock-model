{
 "cells": [
  {
   "cell_type": "code",
   "execution_count": 6,
   "id": "bcc3263d-b9a2-4743-aaa6-434aa06b0a42",
   "metadata": {},
   "outputs": [
    {
     "name": "stdout",
     "output_type": "stream",
     "text": [
      "Min/Max Werte: -0.1393 / 0.2989\n"
     ]
    }
   ],
   "source": [
    "import numpy as np\n",
    "import pandas as pd\n",
    "\n",
    "embeddings = np.load(\"data/embedding_data/Reddit_embeddings_mxbai_embed_large_latest.npy\")\n",
    "\n",
    "sentiments = pd.read_csv(\"data/tesla_sentiment_complete.csv\")\n",
    "\n",
    "print(f\"Min/Max Werte: {embeddings.min():.4f} / {embeddings.max():.4f}\")"
   ]
  },
  {
   "cell_type": "code",
   "execution_count": 7,
   "id": "c06ee713-5e01-4adf-a312-7213777469e9",
   "metadata": {},
   "outputs": [
    {
     "name": "stdout",
     "output_type": "stream",
     "text": [
      "(13268, 1026)\n",
      "Min/Max Werte: -0.9996 / 1.0000\n"
     ]
    }
   ],
   "source": [
    "# Sentimente dranhängen\n",
    "assert len(embeddings) == len(sentiments), \"Mismatch zwischen Embeddings und Sentiments!\"\n",
    "\n",
    "sentiment_features = sentiments[['finbert_sentiment', 'vader_sentiment']].values\n",
    "\n",
    "# 5. Konkatenieren\n",
    "combined = np.concatenate([embeddings, sentiment_features], axis=1)\n",
    "\n",
    "#np.save(\"data/embedding_data/embeddings_with_sentiment.npy\", combined)\n",
    "\n",
    "print(combined.shape)\n",
    "print(f\"Min/Max Werte: {combined.min():.4f} / {combined.max():.4f}\")"
   ]
  },
  {
   "cell_type": "code",
   "execution_count": 8,
   "id": "e116bc64-7a07-47e3-b261-b2712e9a3fd1",
   "metadata": {},
   "outputs": [],
   "source": [
    "# Score (Upvotes) dranhängen\n",
    "upvotes = sentiments[['score']].values\n",
    "\n",
    "# Log-transformieren\n",
    "log_upvotes = np.log1p(upvotes)\n",
    "\n",
    "# Normalisieren (z. B. Min-Max auf [0, 1])\n",
    "upvotes_scaled = (log_upvotes - log_upvotes.min()) / (log_upvotes.max() - log_upvotes.min())\n",
    "\n",
    "# Skalieren auf [-1, 1], um an Embedding-Range anzupassen\n",
    "#upvotes_scaled = upvotes_scaled * 2 - 1\n",
    "\n",
    "combined_complete = np.concatenate([combined, upvotes_scaled], axis=1)\n",
    "\n",
    "#np.save(\"data/embedding_data/embeddings_complete\", combined_complete)"
   ]
  },
  {
   "cell_type": "code",
   "execution_count": 9,
   "id": "4e3551f6-7a5a-4273-bc57-0d025d8f2d7a",
   "metadata": {},
   "outputs": [
    {
     "name": "stdout",
     "output_type": "stream",
     "text": [
      "(13268, 1027)\n",
      "Min/Max Werte: -0.9996 / 1.0000\n"
     ]
    }
   ],
   "source": [
    "print(combined_complete.shape)\n",
    "print(f\"Min/Max Werte: {combined_complete.min():.4f} / {combined_complete.max():.4f}\")"
   ]
  }
 ],
 "metadata": {
  "kernelspec": {
   "display_name": "Python 3 (ipykernel)",
   "language": "python",
   "name": "python3"
  },
  "language_info": {
   "codemirror_mode": {
    "name": "ipython",
    "version": 3
   },
   "file_extension": ".py",
   "mimetype": "text/x-python",
   "name": "python",
   "nbconvert_exporter": "python",
   "pygments_lexer": "ipython3",
   "version": "3.12.10"
  }
 },
 "nbformat": 4,
 "nbformat_minor": 5
}
