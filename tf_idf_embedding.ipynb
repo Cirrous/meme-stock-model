{
 "cells": [
  {
   "cell_type": "code",
   "execution_count": 58,
   "id": "b8afdbab-b503-4577-8eb6-6e9dfbd119b4",
   "metadata": {},
   "outputs": [],
   "source": [
    "import pandas as pd\n",
    "from sklearn.feature_extraction.text import TfidfVectorizer\n",
    "import matplotlib.pyplot as plt\n",
    "import os\n",
    "import numpy as np"
   ]
  },
  {
   "cell_type": "code",
   "execution_count": 59,
   "id": "db1481aa-e84f-48ae-b382-3dcfd5de3afd",
   "metadata": {},
   "outputs": [],
   "source": [
    "# tesla_preprocessed_forEmbedding.csv\n",
    "df = pd.read_csv(\"data/tesla_preprocessed_forEmbedding.csv\")\n"
   ]
  },
  {
   "cell_type": "code",
   "execution_count": 60,
   "id": "db79e87d-0b91-4dc7-8c37-9602d5124ce1",
   "metadata": {},
   "outputs": [
    {
     "name": "stdout",
     "output_type": "stream",
     "text": [
      "                          title  \\\n",
      "0   bowl-o-matic™ pick 7-2-2012   \n",
      "1   bowl-o-matic™ pick 7-6-2012   \n",
      "2   bowl-o-matic™ pick 7-9-2012   \n",
      "3  bowl-o-matic™ pick 7-10-2012   \n",
      "4  bowl-o-matic™ pick 7-12-2012   \n",
      "\n",
      "                                                text  score  \\\n",
      "0  long slv arna rosg imax ppg algn alxn ddd eqix...     11   \n",
      "1  long cyh expe v ppg trip ulta crus agp tsla yu...     10   \n",
      "2  long bud cyh eqix hca sgen ppg disca eqr agp t...      7   \n",
      "3  long alxn cl bud hfc dtv fdx hca sgen hd cyh e...      6   \n",
      "4  long cl fdx ups eqt agu cog wprt pot cyh mck m...      6   \n",
      "\n",
      "               created  \n",
      "0  2012-06-30 03:41:00  \n",
      "1  2012-07-06 01:03:00  \n",
      "2  2012-07-09 14:32:00  \n",
      "3  2012-07-10 00:47:00  \n",
      "4  2012-07-12 15:02:00  \n",
      "Index(['title', 'text', 'score', 'created'], dtype='object')\n"
     ]
    }
   ],
   "source": [
    "# prüfen\n",
    "print(df.head())\n",
    "print(df.columns)"
   ]
  },
  {
   "cell_type": "code",
   "execution_count": 61,
   "id": "59d97d42-01db-4cd7-8ffd-fb9d3d009872",
   "metadata": {},
   "outputs": [],
   "source": [
    "# text + title kombinieren\n",
    "df[\"combined_text\"] = df[\"title\"].fillna('') + \" \" + df[\"text\"].fillna('')"
   ]
  },
  {
   "cell_type": "code",
   "execution_count": 62,
   "id": "a2e6165c-1655-47ca-a1ea-15dcb71c4c4e",
   "metadata": {},
   "outputs": [
    {
     "name": "stdout",
     "output_type": "stream",
     "text": [
      "TF-IDF Matrix shape: (7862, 1000)\n"
     ]
    }
   ],
   "source": [
    "# TF-IDF Vektorisierung\n",
    "vectorizer = TfidfVectorizer(\n",
    "    max_features=1000,\n",
    "    lowercase=True\n",
    ")\n",
    "tfidf_matrix = vectorizer.fit_transform(df[\"combined_text\"])\n",
    "print(\"TF-IDF Matrix shape:\", tfidf_matrix.shape)"
   ]
  },
  {
   "cell_type": "code",
   "execution_count": 63,
   "id": "92cd1c01-faf4-454e-9b51-6fd66048916c",
   "metadata": {},
   "outputs": [
    {
     "name": "stdout",
     "output_type": "stream",
     "text": [
      "Beispielhafte Begriffe: ['00' '000' '01' '02' '04' '05' '10' '100' '1000' '100k' '11' '12' '13'\n",
      " '14' '15' '150' '16' '17' '18' '19']\n"
     ]
    }
   ],
   "source": [
    "# Feature-Namen anzeigen\n",
    "feature_names = vectorizer.get_feature_names_out()\n",
    "print(\"Beispielhafte Begriffe:\", feature_names[:20])"
   ]
  },
  {
   "cell_type": "code",
   "execution_count": 64,
   "id": "635b3f9a-5696-45db-a5e7-53133d105e3e",
   "metadata": {},
   "outputs": [
    {
     "name": "stdout",
     "output_type": "stream",
     "text": [
      "Top 10 Begriffe im Dokument 0:\n",
      "swing: 0.718\n",
      "pick: 0.331\n",
      "love: 0.299\n",
      "aapl: 0.297\n",
      "trade: 0.243\n",
      "short: 0.206\n",
      "long: 0.203\n",
      "day: 0.192\n",
      "tsla: 0.130\n"
     ]
    }
   ],
   "source": [
    "# top begriffe\n",
    "def print_top_terms(doc_index, top_n=10):\n",
    "    row = tfidf_matrix[doc_index].tocoo()\n",
    "    scores = dict(zip([feature_names[i] for i in row.col], row.data))\n",
    "    top_terms = sorted(scores.items(), key=lambda x: x[1], reverse=True)[:top_n]\n",
    "    print(f\"Top {top_n} Begriffe im Dokument {doc_index}:\")\n",
    "    for term, score in top_terms:\n",
    "        print(f\"{term}: {score:.3f}\")\n",
    "\n",
    "print_top_terms(0)"
   ]
  },
  {
   "cell_type": "code",
   "execution_count": 65,
   "id": "0c84af58-1d3e-4385-bcf5-0e70c7e0d838",
   "metadata": {},
   "outputs": [
    {
     "data": {
      "image/png": "[encoded data removed]",
      "text/plain": [
       "<Figure size 1000x500 with 1 Axes>"
      ]
     },
     "metadata": {},
     "output_type": "display_data"
    }
   ],
   "source": [
    "# verteilung zur übersicht plotten\n",
    "plt.figure(figsize=(10, 5))\n",
    "plt.hist(tfidf_matrix.data, bins=100)\n",
    "plt.title(\"Verteilung der TF-IDF-Werte\")\n",
    "plt.xlabel(\"TF-IDF Score\")\n",
    "plt.ylabel(\"Häufigkeit\")\n",
    "plt.show()"
   ]
  },
  {
   "cell_type": "code",
   "execution_count": 66,
   "id": "7cb0e077-bb38-4736-8c73-0dda492558e0",
   "metadata": {},
   "outputs": [
    {
     "name": "stdout",
     "output_type": "stream",
     "text": [
      "TF-IDF-Embeddings gespeichert als: data/tfidf_embeddings.npy\n",
      "Feature-Namen gespeichert als: data/tfidf_feature_names.npy\n"
     ]
    }
   ],
   "source": [
    "# Speicherung als .npy-Datei\n",
    "# Konvertiere Sparse-Matrix in dichten NumPy-Array\n",
    "output_dir = \"data\"\n",
    "os.makedirs(output_dir, exist_ok=True)\n",
    "\n",
    "embedding_array = tfidf_matrix.toarray()\n",
    "np.save(os.path.join(output_dir, \"tfidf_embeddings.npy\"), embedding_array)\n",
    "\n",
    "# speicherung der feature namen\n",
    "np.save(os.path.join(output_dir, \"tfidf_feature_names.npy\"), feature_names)\n",
    "\n",
    "print(\"TF-IDF-Embeddings gespeichert als: data/tfidf_embeddings.npy\")\n",
    "print(\"Feature-Namen gespeichert als: data/tfidf_feature_names.npy\")"
   ]
  },
  {
   "cell_type": "code",
   "execution_count": null,
   "id": "5d5a0af0-1434-458f-94bf-d4fec89dc9cb",
   "metadata": {},
   "outputs": [],
   "source": []
  },
  {
   "cell_type": "code",
   "execution_count": null,
   "id": "bf2f511a-6527-4a3d-bdce-d7c9a39e785a",
   "metadata": {},
   "outputs": [],
   "source": []
  }
 ],
 "metadata": {
  "kernelspec": {
   "display_name": "Python 3 (ipykernel)",
   "language": "python",
   "name": "python3"
  },
  "language_info": {
   "codemirror_mode": {
    "name": "ipython",
    "version": 3
   },
   "file_extension": ".py",
   "mimetype": "text/x-python",
   "name": "python",
   "nbconvert_exporter": "python",
   "pygments_lexer": "ipython3",
   "version": "3.10.13"
  }
 },
 "nbformat": 4,
 "nbformat_minor": 5
}
