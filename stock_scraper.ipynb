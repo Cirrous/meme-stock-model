{
 "cells": [
  {
   "cell_type": "code",
   "execution_count": 2,
   "id": "c45fbf4b-4452-4166-88c3-247cfe940992",
   "metadata": {},
   "outputs": [],
   "source": [
    "import requests\n",
    "import csv\n",
    "\n",
    "# Tesla stock weekly\n",
    "\n",
    "url = 'https://www.alphavantage.co/query?function=TIME_SERIES_WEEKLY_ADJUSTED&symbol=TSLA&apikey=GR4S16Y4XV97PF9Z'\n",
    "r = requests.get(url)\n",
    "data = r.json()\n",
    "\n",
    "# Extract Weekly Adjusted Time Series Part of JSON\n",
    "time_series = data['Weekly Adjusted Time Series']\n",
    "\n",
    "# Write CSV\n",
    "with open('./data/TSLA_weekly_adjusted.csv', mode='w', newline='') as file:\n",
    "    writer = csv.writer(file)\n",
    "    writer.writerow(['date', 'open', 'high', 'low', 'close', 'adjusted_close', 'volume', 'dividend_amount'])  # Header\n",
    "\n",
    "    for date, values in time_series.items():\n",
    "        writer.writerow([\n",
    "            date,\n",
    "            values['1. open'],\n",
    "            values['2. high'],\n",
    "            values['3. low'],\n",
    "            values['4. close'],\n",
    "            values['5. adjusted close'],\n",
    "            values['6. volume'],\n",
    "            values['7. dividend amount']\n",
    "        ])"
   ]
  },
  {
   "cell_type": "code",
   "execution_count": null,
   "id": "b524672e-e633-4621-b167-d941a45119ea",
   "metadata": {},
   "outputs": [],
   "source": []
  }
 ],
 "metadata": {
  "kernelspec": {
   "display_name": "Python 3 (ipykernel)",
   "language": "python",
   "name": "python3"
  },
  "language_info": {
   "codemirror_mode": {
    "name": "ipython",
    "version": 3
   },
   "file_extension": ".py",
   "mimetype": "text/x-python",
   "name": "python",
   "nbconvert_exporter": "python",
   "pygments_lexer": "ipython3",
   "version": "3.11.9"
  }
 },
 "nbformat": 4,
 "nbformat_minor": 5
}
