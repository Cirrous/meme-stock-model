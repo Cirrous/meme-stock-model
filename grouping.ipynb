{
 "cells": [
  {
   "cell_type": "code",
   "execution_count": null,
   "id": "292cbce2-c546-4d09-bc55-85daf31bf9c2",
   "metadata": {},
   "outputs": [
    {
     "name": "stdout",
     "output_type": "stream",
     "text": [
      "552 Wochen gebildet.\n"
     ]
    }
   ],
   "source": [
    "import pandas as pd\n",
    "import numpy as np\n",
    "from datetime import datetime, timedelta\n",
    "\n",
    "# 1. Daten Lesen\n",
    "df = pd.read_csv(\"data/tesla_top5_daily.csv\", parse_dates=[\"created\"])\n",
    "embeddings = np.load(\"data/embedding_data/embeddings_complete_scaled.npy\")\n",
    "\n",
    "assert len(df) == len(embeddings), \"Anzahl Zeilen stimmt nicht mit Embeddings überein!\"\n",
    "\n",
    "# 2. Timestamp in Wochenzeitraum überführen (Freitag 16 Uhr bis Freitag 16 Uhr)\n",
    "\n",
    "def get_week_bucket(dt):\n",
    "    # Setze auf Freitag 16 Uhr\n",
    "    dt = pd.Timestamp(dt)\n",
    "    weekday = dt.weekday()\n",
    "    hour = dt.hour\n",
    "\n",
    "    # Freitag = 4; wenn nach Freitag 16 Uhr, gehört es zur nächsten Woche\n",
    "    if (weekday > 4) or (weekday == 4 and hour >= 16):\n",
    "        # nächster Freitag\n",
    "        days_until_next_friday = (11 - weekday) % 7\n",
    "        friday = dt + timedelta(days=days_until_next_friday)\n",
    "    else:\n",
    "        # letzte Freitag\n",
    "        days_since_last_friday = (weekday - 4) % 7\n",
    "        friday = dt - timedelta(days=days_since_last_friday)\n",
    "\n",
    "    # Setze Uhrzeit auf Freitag 16:00:00\n",
    "    bucket = pd.Timestamp(friday.date()) + pd.Timedelta(hours=16)\n",
    "    return bucket\n",
    "\n",
    "df[\"week\"] = df[\"created\"].apply(get_week_bucket)\n",
    "\n",
    "# 3. Gruppieren\n",
    "grouped_embeddings = {}\n",
    "for week, group in df.groupby(\"week\"):\n",
    "    indices = group.index.tolist()\n",
    "    group_emb = embeddings[indices]\n",
    "    grouped_embeddings[week.strftime(\"%Y-%m-%d\")] = group_emb\n",
    "\n",
    "# 4. Speichern\n",
    "np.save(\"data/embedding_data/weekly_embeddings_dict.npy\", grouped_embeddings)\n",
    "\n",
    "print(f\"{len(grouped_embeddings)} Wochen gebildet.\")\n"
   ]
  }
 ],
 "metadata": {
  "kernelspec": {
   "display_name": "Python 3 (ipykernel)",
   "language": "python",
   "name": "python3"
  },
  "language_info": {
   "codemirror_mode": {
    "name": "ipython",
    "version": 3
   },
   "file_extension": ".py",
   "mimetype": "text/x-python",
   "name": "python",
   "nbconvert_exporter": "python",
   "pygments_lexer": "ipython3",
   "version": "3.12.10"
  }
 },
 "nbformat": 4,
 "nbformat_minor": 5
}
