{
 "cells": [
  {
   "cell_type": "code",
   "execution_count": 3,
   "id": "1cbc997c-4d81-466b-99d2-79b55081a171",
   "metadata": {},
   "outputs": [
    {
     "name": "stderr",
     "output_type": "stream",
     "text": [
      "[nltk_data] Downloading package punkt to /home/christian/nltk_data...\n",
      "[nltk_data]   Package punkt is already up-to-date!\n",
      "[nltk_data] Downloading package punkt_tab to\n",
      "[nltk_data]     /home/christian/nltk_data...\n",
      "[nltk_data]   Package punkt_tab is already up-to-date!\n",
      "[nltk_data] Downloading package stopwords to\n",
      "[nltk_data]     /home/christian/nltk_data...\n",
      "[nltk_data]   Package stopwords is already up-to-date!\n",
      "[nltk_data] Downloading package wordnet to\n",
      "[nltk_data]     /home/christian/nltk_data...\n",
      "[nltk_data]   Package wordnet is already up-to-date!\n"
     ]
    },
    {
     "data": {
      "text/plain": [
       "True"
      ]
     },
     "execution_count": 3,
     "metadata": {},
     "output_type": "execute_result"
    }
   ],
   "source": [
    "import pandas as pd\n",
    "import re\n",
    "import nltk\n",
    "from nltk.corpus import stopwords\n",
    "from nltk.tokenize import word_tokenize\n",
    "from nltk.stem import WordNetLemmatizer\n",
    "import string\n",
    "import os\n",
    "\n",
    "nltk.download('punkt')\n",
    "nltk.download('punkt_tab')\n",
    "nltk.download('stopwords')\n",
    "nltk.download('wordnet')"
   ]
  },
  {
   "cell_type": "code",
   "execution_count": 4,
   "id": "e80caa5a-f9b6-4d3a-94f3-8571d36e224a",
   "metadata": {},
   "outputs": [],
   "source": [
    "# SETTINGS - NUR HIER IN DIESER ZELLE ETWAS ÄNDERN\n",
    "\n",
    "# Input file definieren - HIER EINFACH ÄNDERN\n",
    "df = pd.read_csv('data/tesla_top5_daily.csv')\n",
    "\n",
    "# Preprocessing Optionen - HIER EINFACH AN/AUS SCHALTEN\n",
    "remove_urls = True\n",
    "remove_stopwords = True\n",
    "remove_special_chars = False  # Finanz-Symbole und Emojis behalten\n",
    "apply_lemmatization = True  \n",
    "\n",
    "# Output file definieren - HIER EINFACH ÄNDERN\n",
    "output_file_path = 'data/tesla_preprocessed.csv'"
   ]
  },
  {
   "cell_type": "code",
   "execution_count": 5,
   "id": "f5463ed7-83fe-485e-a7b9-bf12a6e85d18",
   "metadata": {},
   "outputs": [],
   "source": [
    "# Text Preprocessing Funktionen\n",
    "def preprocess_text(text):\n",
    "    \n",
    "    if pd.isna(text):\n",
    "        return \"\"\n",
    "    \n",
    "    text = str(text).lower()\n",
    "    \n",
    "    # URLs entfernen\n",
    "    if remove_urls:\n",
    "        text = re.sub(r'http\\S+|www\\S+|https\\S+', '', text, flags=re.MULTILINE)\n",
    "    \n",
    "    # Spezielle Reddit-Syntax bereinigen (aber Info behalten)\n",
    "    text = re.sub(r'u/(\\w+)', r'user_\\1', text)  # u/username -> user_username\n",
    "    text = re.sub(r'r/(\\w+)', r'subreddit_\\1', text)  # r/subreddit -> subreddit_name\n",
    "    text = re.sub(r'/s', ' sarcasm', text)  # /s -> sarcasm (wichtige Info!)\n",
    "    \n",
    "    # Emoji-to-Text Konvertierung (wichtig für Sentiment!)\n",
    "    emoji_dict = {\n",
    "        '🚀': ' rocket ',\n",
    "        '📈': ' chart_up ',\n",
    "        '📉': ' chart_down ',\n",
    "        '💎': ' diamond_hands ',\n",
    "        '🌙': ' moon ',\n",
    "        '💀': ' dead ',\n",
    "        '🙌': ' hands ',\n",
    "        '🔥': ' fire ',\n",
    "        '💰': ' money ',\n",
    "        '📊': ' chart ',\n",
    "        '🐻': ' bear ',\n",
    "        '🐂': ' bull ',\n",
    "        '💸': ' money_lost ',\n",
    "        '🤑': ' money_face ',\n",
    "        '😭': ' crying ',\n",
    "        '😂': ' laughing ',\n",
    "        '🎯': ' target ',\n",
    "        '⚡': ' lightning ',\n",
    "        '🌟': ' star ',\n",
    "        '❤️': ' love ',\n",
    "    }\n",
    "    for emoji, word in emoji_dict.items():\n",
    "        text = text.replace(emoji, word)\n",
    "    \n",
    "    # Tokenization\n",
    "    tokens = word_tokenize(text)\n",
    "    \n",
    "    # Stopwords entfernen\n",
    "    if remove_stopwords:\n",
    "        stop_words = set(stopwords.words('english'))\n",
    "        # Wichtige Finanz-Begriffe NICHT als Stopwords behandeln (z.B. up/down sind stopwords)\n",
    "        financial_words = {'buy', 'sell', 'hold', 'up', 'down', 'bull', 'bear', \n",
    "                          'call', 'put', 'long', 'short', 'moon', 'rocket'}\n",
    "        stop_words = stop_words - financial_words \n",
    "        tokens = [token for token in tokens if token not in stop_words]\n",
    "    \n",
    "    # Interpunktion-Filterung\n",
    "    if remove_special_chars:\n",
    "        # Wenn special_chars entfernt werden sollen, normale Punctuation-Filterung\n",
    "        tokens = [token for token in tokens if token not in string.punctuation]\n",
    "    else:\n",
    "        # Wenn special_chars behalten werden, nur störende Punctuation entfernen\n",
    "        keep_symbols = {'$', '%', '+', '#', '@', '-'}\n",
    "        harmful_punctuation = set(string.punctuation) - keep_symbols\n",
    "        tokens = [token for token in tokens if token not in harmful_punctuation]\n",
    "    \n",
    "    # Lemmatization\n",
    "    if apply_lemmatization:\n",
    "        lemmatizer = WordNetLemmatizer()\n",
    "        tokens = [lemmatizer.lemmatize(token) for token in tokens]\n",
    "    \n",
    "    return ' '.join(tokens)\n",
    "\n",
    "# Funktion für ein paar Zahlen/Stats\n",
    "def get_preprocessing_stats(original_text, processed_text):\n",
    "    \"\"\"Statistiken über das Preprocessing\"\"\"\n",
    "    orig_words = len(str(original_text).split())\n",
    "    proc_words = len(str(processed_text).split())\n",
    "    reduction = ((orig_words - proc_words) / orig_words * 100) if orig_words > 0 else 0\n",
    "    return orig_words, proc_words, reduction"
   ]
  },
  {
   "cell_type": "code",
   "execution_count": 6,
   "id": "561dd4a5-3bb7-425c-a606-db7c34082b45",
   "metadata": {},
   "outputs": [
    {
     "name": "stdout",
     "output_type": "stream",
     "text": [
      "Starting text preprocessing...\n",
      "Original dataset: 13268 rows\n",
      "Gesamte Wörter original: 2,240,757\n",
      "Gesamte Wörter nach preprocessing: 1,451,895\n",
      "Reduktion: 35.2%\n",
      "Preprocessing completed!\n"
     ]
    }
   ],
   "source": [
    "# Preprocessing durchführen\n",
    "\n",
    "print(\"Starting text preprocessing...\")\n",
    "print(f\"Original dataset: {len(df)} rows\")\n",
    "\n",
    "# Originale Spalten für Statistiken speichern\n",
    "original_title = df['title'].copy()\n",
    "original_text = df['text'].copy()\n",
    "\n",
    "# Title und Text preprocessing - ÜBERSCHREIBT Spalten\n",
    "df['title'] = df['title'].apply(preprocess_text)\n",
    "df['text'] = df['text'].apply(preprocess_text)\n",
    "\n",
    "# Statistiken mit originalen Daten\n",
    "total_orig_words = sum(len(str(text).split()) for text in original_title) + sum(len(str(text).split()) for text in original_text)\n",
    "total_proc_words = sum(len(str(text).split()) for text in df['title']) + sum(len(str(text).split()) for text in df['text'])\n",
    "reduction = ((total_orig_words - total_proc_words) / total_orig_words * 100) if total_orig_words > 0 else 0\n",
    "\n",
    "print(f\"Gesamte Wörter original: {total_orig_words:,}\")\n",
    "print(f\"Gesamte Wörter nach preprocessing: {total_proc_words:,}\")\n",
    "print(f\"Reduktion: {reduction:.1f}%\")\n",
    "print(\"Preprocessing completed!\")"
   ]
  },
  {
   "cell_type": "code",
   "execution_count": 7,
   "id": "7b8bccaf-972d-40b3-b603-8060168049e6",
   "metadata": {},
   "outputs": [
    {
     "name": "stdout",
     "output_type": "stream",
     "text": [
      "File data/tesla_preprocessed.csv already exists!\n"
     ]
    }
   ],
   "source": [
    "# Speichern\n",
    "if os.path.exists(output_file_path):\n",
    "    print(f'File {output_file_path} already exists!')\n",
    "else:\n",
    "    df.to_csv(output_file_path, index=False)\n",
    "    print(f'Daten gespeichert als: {output_file_path}')"
   ]
  },
  {
   "cell_type": "code",
   "execution_count": null,
   "id": "ce163066-ae46-455f-beb8-066cc8d69908",
   "metadata": {},
   "outputs": [],
   "source": []
  }
 ],
 "metadata": {
  "kernelspec": {
   "display_name": "Python 3 (ipykernel)",
   "language": "python",
   "name": "python3"
  },
  "language_info": {
   "codemirror_mode": {
    "name": "ipython",
    "version": 3
   },
   "file_extension": ".py",
   "mimetype": "text/x-python",
   "name": "python",
   "nbconvert_exporter": "python",
   "pygments_lexer": "ipython3",
   "version": "3.13.5"
  }
 },
 "nbformat": 4,
 "nbformat_minor": 5
}
