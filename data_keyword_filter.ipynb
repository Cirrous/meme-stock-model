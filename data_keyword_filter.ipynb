{
 "cells": [
  {
   "cell_type": "code",
   "execution_count": 14,
   "id": "52b31262-e8a6-42c0-8c2f-dc83031f03a0",
   "metadata": {},
   "outputs": [],
   "source": [
    "import pandas as pd\n",
    "from datetime import datetime\n",
    "import re\n",
    "import os"
   ]
  },
  {
   "cell_type": "code",
   "execution_count": null,
   "id": "cfc5c2a3-bcb2-48ad-b221-5eadb7e53ec4",
   "metadata": {},
   "outputs": [],
   "source": [
    "# SETTINGS - NUR HIER IN DIESER ZELLE ETWAS ÄNDERN FÜR ANDERE STOCKS\n",
    "\n",
    "# Input file definieren - HIER EINFACH ÄNDERN\n",
    "df = pd.read_csv('data/Reddit_Data.csv')\n",
    "\n",
    "# Keywords definieren - HIER EINFACH ÄNDERN FÜR ANDERE STOCKS\n",
    "keywords = [\n",
    "    'tesla',\n",
    "    'tsla', \n",
    "    'elon',\n",
    "    'musk'\n",
    "]\n",
    "\n",
    "# Output file definieren - HIER EINFACH ÄNDERN FÜR ANDERE STOCKS\n",
    "output_file_path = 'data/tesla_posts.csv'"
   ]
  },
  {
   "cell_type": "code",
   "execution_count": 16,
   "id": "0fc647da-a58b-4c50-b58e-b9579a0eb986",
   "metadata": {},
   "outputs": [],
   "source": [
    "#Funktion zum Filtern nach keywords\n",
    "def filter_posts_by_keywords(df, keywords):\n",
    "    # Automatische Erstellung des regex Patterns\n",
    "    pattern = r'\\b(' + '|'.join(keywords) + r')\\b'\n",
    "    \n",
    "    # Filter anwenden\n",
    "    mask = (\n",
    "        df['title'].str.contains(pattern, case=False, na=False, regex=True) |\n",
    "        df['text'].str.contains(pattern, case=False, na=False, regex=True)\n",
    "    )\n",
    "    \n",
    "    return df[mask], pattern\n"
   ]
  },
  {
   "cell_type": "code",
   "execution_count": 17,
   "id": "95ba2a0b-b602-4ef3-9222-161096437b94",
   "metadata": {},
   "outputs": [
    {
     "name": "stderr",
     "output_type": "stream",
     "text": [
      "C:\\Users\\Tobia\\AppData\\Local\\Temp\\ipykernel_10272\\2373963148.py:8: UserWarning: This pattern is interpreted as a regular expression, and has match groups. To actually get the groups, use str.extract.\n",
      "  df['title'].str.contains(pattern, case=False, na=False, regex=True) |\n",
      "C:\\Users\\Tobia\\AppData\\Local\\Temp\\ipykernel_10272\\2373963148.py:9: UserWarning: This pattern is interpreted as a regular expression, and has match groups. To actually get the groups, use str.extract.\n",
      "  df['text'].str.contains(pattern, case=False, na=False, regex=True)\n"
     ]
    },
    {
     "name": "stdout",
     "output_type": "stream",
     "text": [
      "Verwendetes Pattern: \\b(tesla|tsla|elon|musk)\\b\n",
      "Gefundene Posts: 66310\n"
     ]
    }
   ],
   "source": [
    "# Filtern\n",
    "filtered_df, used_pattern = filter_posts_by_keywords(df, keywords)\n",
    "\n",
    "print(f\"Verwendetes Pattern: {used_pattern}\")\n",
    "print(f\"Gefundene Posts: {len(filtered_df)}\")"
   ]
  },
  {
   "cell_type": "code",
   "execution_count": 18,
   "id": "794cd46a-ac4b-49cf-8dd9-8f1b25faf9b2",
   "metadata": {},
   "outputs": [
    {
     "name": "stdout",
     "output_type": "stream",
     "text": [
      "File data/tesla_posts.csv already exists!\n"
     ]
    }
   ],
   "source": [
    "# Speichern\n",
    "if os.path.exists(output_file_path):\n",
    "    print(f'File {output_file_path} already exists!')\n",
    "else:\n",
    "    filtered_df.to_csv(output_file_path, index=False)\n",
    "    print(f'Daten gespeichert als: {output_file_path}')"
   ]
  },
  {
   "cell_type": "code",
   "execution_count": null,
   "id": "c16ef150-e974-47d6-8ff3-b6d6e8d97f2c",
   "metadata": {},
   "outputs": [],
   "source": []
  }
 ],
 "metadata": {
  "kernelspec": {
   "display_name": "Python 3 (ipykernel)",
   "language": "python",
   "name": "python3"
  },
  "language_info": {
   "codemirror_mode": {
    "name": "ipython",
    "version": 3
   },
   "file_extension": ".py",
   "mimetype": "text/x-python",
   "name": "python",
   "nbconvert_exporter": "python",
   "pygments_lexer": "ipython3",
   "version": "3.12.10"
  }
 },
 "nbformat": 4,
 "nbformat_minor": 5
}
