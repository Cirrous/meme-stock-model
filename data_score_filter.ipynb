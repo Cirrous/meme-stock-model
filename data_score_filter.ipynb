{
 "cells": [
  {
   "cell_type": "code",
   "execution_count": 5,
   "id": "a6165a56-9e42-4ae5-956c-a2dbf297e0f0",
   "metadata": {},
   "outputs": [],
   "source": [
    "import pandas as pd\n",
    "from datetime import datetime\n",
    "import os"
   ]
  },
  {
   "cell_type": "code",
   "execution_count": 6,
   "id": "9e9c1ec0-2dbd-489c-89c5-667a81b2e721",
   "metadata": {},
   "outputs": [],
   "source": [
    "# SETTINGS - NUR HIER IN DIESER ZELLE ETWAS ÄNDERN\n",
    "\n",
    "# Input file definieren - HIER EINFACH ÄNDERN\n",
    "df = pd.read_csv('data/tesla_posts.csv')\n",
    "\n",
    "# Anzahl Top Posts pro Tag - HIER EINFACH ÄNDERN\n",
    "top_n_posts = 5\n",
    "\n",
    "# Output file definieren - HIER EINFACH ÄNDERN\n",
    "output_file_path = 'data/tesla_top5_daily.csv'"
   ]
  },
  {
   "cell_type": "code",
   "execution_count": 7,
   "id": "817063c3-f26e-4db6-bd7b-13351bb9aab7",
   "metadata": {},
   "outputs": [],
   "source": [
    "# Funktion zum Filtern der Top N Posts pro Tag\n",
    "def get_top_posts_per_day(df, top_n=5):\n",
    "    # Created Spalte zu datetime konvertieren\n",
    "    df['created'] = pd.to_datetime(df['created'])\n",
    "    \n",
    "    # Datum ohne Uhrzeit extrahieren (temporär für Gruppierung)\n",
    "    df['temp_date'] = df['created'].dt.date\n",
    "    \n",
    "    # Top N Posts pro Tag basierend auf Score\n",
    "    top_posts = df.groupby('temp_date').apply(\n",
    "        lambda x: x.nlargest(top_n, 'score')\n",
    "    ).reset_index(drop=True)\n",
    "    \n",
    "    # Temporäre Spalte entfernen\n",
    "    top_posts = top_posts.drop('temp_date', axis=1)\n",
    "    \n",
    "    return top_posts"
   ]
  },
  {
   "cell_type": "code",
   "execution_count": 8,
   "id": "149d5ce9-cf5e-4da0-87cf-9fb39a04693b",
   "metadata": {},
   "outputs": [
    {
     "name": "stdout",
     "output_type": "stream",
     "text": [
      "Top 5 Posts pro Tag ausgewählt\n",
      "Anzahl Tage: 3181\n",
      "Gesamt Posts: 13268\n",
      "Durchschnitt Posts pro Tag: 4.2\n"
     ]
    },
    {
     "name": "stderr",
     "output_type": "stream",
     "text": [
      "C:\\Users\\Tobia\\AppData\\Local\\Temp\\ipykernel_20440\\3453200324.py:10: FutureWarning: DataFrameGroupBy.apply operated on the grouping columns. This behavior is deprecated, and in a future version of pandas the grouping columns will be excluded from the operation. Either pass `include_groups=False` to exclude the groupings or explicitly select the grouping columns after groupby to silence this warning.\n",
      "  top_posts = df.groupby('temp_date').apply(\n"
     ]
    }
   ],
   "source": [
    "# Filtern\n",
    "top_daily_posts = get_top_posts_per_day(df, top_n_posts)\n",
    "\n",
    "print(f\"Top {top_n_posts} Posts pro Tag ausgewählt\")\n",
    "print(f\"Anzahl Tage: {pd.to_datetime(top_daily_posts['created']).dt.date.nunique()}\")\n",
    "print(f\"Gesamt Posts: {len(top_daily_posts)}\")\n",
    "print(f\"Durchschnitt Posts pro Tag: {len(top_daily_posts) / pd.to_datetime(top_daily_posts['created']).dt.date.nunique():.1f}\")"
   ]
  },
  {
   "cell_type": "code",
   "execution_count": 9,
   "id": "77392dfe-52cf-44c3-b325-e9f939ca5a16",
   "metadata": {},
   "outputs": [
    {
     "name": "stdout",
     "output_type": "stream",
     "text": [
      "Daten gespeichert als: data/tesla_top5_daily.csv\n"
     ]
    }
   ],
   "source": [
    "# Speichern\n",
    "if os.path.exists(output_file_path):\n",
    "    print(f'File {output_file_path} already exists!')\n",
    "else:\n",
    "    top_daily_posts.to_csv(output_file_path, index=False)\n",
    "    print(f'Daten gespeichert als: {output_file_path}')"
   ]
  }
 ],
 "metadata": {
  "kernelspec": {
   "display_name": "Python 3 (ipykernel)",
   "language": "python",
   "name": "python3"
  },
  "language_info": {
   "codemirror_mode": {
    "name": "ipython",
    "version": 3
   },
   "file_extension": ".py",
   "mimetype": "text/x-python",
   "name": "python",
   "nbconvert_exporter": "python",
   "pygments_lexer": "ipython3",
   "version": "3.12.10"
  }
 },
 "nbformat": 4,
 "nbformat_minor": 5
}
