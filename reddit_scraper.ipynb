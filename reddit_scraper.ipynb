{
 "cells": [
  {
   "cell_type": "code",
   "execution_count": 6,
   "id": "8d415995",
   "metadata": {},
   "outputs": [],
   "source": [
    "from dotenv import load_dotenv\n",
    "import os\n",
    "import datetime\n",
    "import csv\n",
    "import praw\n",
    "\n",
    "load_dotenv()\n",
    "\n",
    "client_id = os.getenv(\"REDDIT_CLIENT_ID\")\n",
    "client_secret = os.getenv(\"REDDIT_CLIENT_SECRET\")\n",
    "user_agent = os.getenv(\"REDDIT_USER_AGENT\")\n",
    "\n",
    "reddit = praw.Reddit(\n",
    "    client_id=client_id,\n",
    "    client_secret=client_secret,\n",
    "    user_agent=user_agent\n",
    ")\n"
   ]
  },
  {
   "cell_type": "code",
   "execution_count": 7,
   "id": "7a651572",
   "metadata": {},
   "outputs": [
    {
     "name": "stderr",
     "output_type": "stream",
     "text": [
      "C:\\Users\\chris\\AppData\\Local\\Temp\\ipykernel_5720\\1102894633.py:1: DeprecationWarning: datetime.datetime.utcnow() is deprecated and scheduled for removal in a future version. Use timezone-aware objects to represent datetimes in UTC: datetime.datetime.now(datetime.UTC).\n",
      "  seven_days_ago = datetime.datetime.utcnow() - datetime.timedelta(days=7)\n"
     ]
    },
    {
     "name": "stdout",
     "output_type": "stream",
     "text": [
      "--- Posts aus r/wallstreetbets ---\n"
     ]
    },
    {
     "name": "stderr",
     "output_type": "stream",
     "text": [
      "C:\\Users\\chris\\AppData\\Local\\Temp\\ipykernel_5720\\1102894633.py:23: DeprecationWarning: datetime.datetime.utcfromtimestamp() is deprecated and scheduled for removal in a future version. Use timezone-aware objects to represent datetimes in UTC: datetime.datetime.fromtimestamp(timestamp, datetime.UTC).\n",
      "  datetime.datetime.utcfromtimestamp(post.created_utc).isoformat(),\n"
     ]
    },
    {
     "name": "stdout",
     "output_type": "stream",
     "text": [
      "--- Posts aus r/stocks ---\n",
      "--- Posts aus r/investing ---\n",
      "--- Posts aus r/StockMarket ---\n",
      "--- Posts aus r/wallstreetbetsGER ---\n"
     ]
    }
   ],
   "source": [
    "\n",
    "\n",
    "seven_days_ago = datetime.datetime.utcnow() - datetime.timedelta(days=7)\n",
    "timestamp_limit = seven_days_ago.timestamp()\n",
    "\n",
    "subreddits = [\n",
    "    \"wallstreetbets\", \"stocks\", \"investing\", \"StockMarket\", \"wallstreetbetsGER\"\n",
    "]\n",
    "\n",
    "with open(\"./data/reddit_posts.csv\", mode=\"w\", newline=\"\", encoding=\"utf-8\") as file:\n",
    "    writer = csv.writer(file)\n",
    "    writer.writerow([\"subreddit\", \"title\", \"body\", \"created_utc\", \"upvotes\"])\n",
    "\n",
    "    for subreddit_name in subreddits:\n",
    "        subreddit = reddit.subreddit(subreddit_name)\n",
    "        print(f\"--- Posts aus r/{subreddit_name} ---\")\n",
    "\n",
    "        try:\n",
    "            for post in subreddit.new(limit=1000):\n",
    "                if post.created_utc >= timestamp_limit:\n",
    "                    writer.writerow([\n",
    "                        subreddit_name,\n",
    "                        post.title,\n",
    "                        post.selftext.replace(\"\\n\", \" \").strip(),\n",
    "                        datetime.datetime.utcfromtimestamp(post.created_utc).isoformat(),\n",
    "                        post.score\n",
    "                    ])\n",
    "        except Exception as e:\n",
    "            print(f\"Fehler bei r/{subreddit_name}: {e}\")"
   ]
  }
 ],
 "metadata": {
  "kernelspec": {
   "display_name": "Python 3 (ipykernel)",
   "language": "python",
   "name": "python3"
  },
  "language_info": {
   "codemirror_mode": {
    "name": "ipython",
    "version": 3
   },
   "file_extension": ".py",
   "mimetype": "text/x-python",
   "name": "python",
   "nbconvert_exporter": "python",
   "pygments_lexer": "ipython3",
   "version": "3.12.10"
  }
 },
 "nbformat": 4,
 "nbformat_minor": 5
}
